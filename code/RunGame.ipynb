{
 "cells": [
  {
   "cell_type": "code",
   "execution_count": 1,
   "metadata": {},
   "outputs": [],
   "source": [
    "import TicTacToeFunctions as f"
   ]
  },
  {
   "cell_type": "code",
   "execution_count": 2,
   "metadata": {},
   "outputs": [
    {
     "name": "stdout",
     "output_type": "stream",
     "text": [
      "Welcome to Tic Tac Toe, get ready to play!!\n",
      "\n",
      "This grid down here is the gameboard with each coordinate number inside of each cell, for each turn you are going to write down one of those numbers in order to place your next token into that cell\n",
      " _________________\n",
      "|     |     |     |\n",
      "|  0  |  1  |  2  |\n",
      "|_____|_____|_____|\n",
      "|     |     |     |\n",
      "|  3  |  4  |  5  |\n",
      "|_____|_____|_____|\n",
      "|     |     |     |\n",
      "|  6  |  7  |  8  |\n",
      "|_____|_____|_____|\n",
      "\n",
      "Fake loading...\n",
      "\n",
      "Let the game begin!\n",
      "\n",
      "Choose your symbol 'X' or 'O': 0\n",
      "That's neither an 'X' or a 'O', try again!!\n",
      "Choose your symbol 'X' or 'O': X\n",
      "The player has chosen X!\n",
      "Do you want to start first? y/n :y\n",
      "Choose a number between '0' and '8' :1\n",
      "The player has chosen position 1!\n",
      " _________________\n",
      "|     |     |     |\n",
      "|     |  X  |     |\n",
      "|_____|_____|_____|\n",
      "|     |     |     |\n",
      "|     |     |     |\n",
      "|_____|_____|_____|\n",
      "|     |     |     |\n",
      "|     |     |     |\n",
      "|_____|_____|_____|\n",
      "Computer is thinking it's next random move...\n",
      "The computer has chosen position 0!\n",
      " _________________\n",
      "|     |     |     |\n",
      "|  O  |  X  |     |\n",
      "|_____|_____|_____|\n",
      "|     |     |     |\n",
      "|     |     |     |\n",
      "|_____|_____|_____|\n",
      "|     |     |     |\n",
      "|     |     |     |\n",
      "|_____|_____|_____|\n",
      "Choose a number between '0' and '8' :4\n",
      "The player has chosen position 4!\n",
      " _________________\n",
      "|     |     |     |\n",
      "|  O  |  X  |     |\n",
      "|_____|_____|_____|\n",
      "|     |     |     |\n",
      "|     |  X  |     |\n",
      "|_____|_____|_____|\n",
      "|     |     |     |\n",
      "|     |     |     |\n",
      "|_____|_____|_____|\n",
      "Computer is thinking it's next random move...\n",
      "The computer has chosen position 3!\n",
      " _________________\n",
      "|     |     |     |\n",
      "|  O  |  X  |     |\n",
      "|_____|_____|_____|\n",
      "|     |     |     |\n",
      "|  O  |  X  |     |\n",
      "|_____|_____|_____|\n",
      "|     |     |     |\n",
      "|     |     |     |\n",
      "|_____|_____|_____|\n",
      "Choose a number between '0' and '8' :7\n",
      "The player has chosen position 7!\n",
      " _________________\n",
      "|     |     |     |\n",
      "|  O  |  X  |     |\n",
      "|_____|_____|_____|\n",
      "|     |     |     |\n",
      "|  O  |  X  |     |\n",
      "|_____|_____|_____|\n",
      "|     |     |     |\n",
      "|     |  X  |     |\n",
      "|_____|_____|_____|\n",
      "\n",
      "\n",
      "Congratulations human!!, you have won against a random decision based opponent\n"
     ]
    }
   ],
   "source": [
    "f.game_start()"
   ]
  },
  {
   "cell_type": "code",
   "execution_count": null,
   "metadata": {},
   "outputs": [],
   "source": []
  }
 ],
 "metadata": {
  "kernelspec": {
   "display_name": "Python 3",
   "language": "python",
   "name": "python3"
  },
  "language_info": {
   "codemirror_mode": {
    "name": "ipython",
    "version": 3
   },
   "file_extension": ".py",
   "mimetype": "text/x-python",
   "name": "python",
   "nbconvert_exporter": "python",
   "pygments_lexer": "ipython3",
   "version": "3.8.3"
  }
 },
 "nbformat": 4,
 "nbformat_minor": 4
}
